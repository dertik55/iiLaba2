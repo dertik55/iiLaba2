{
  "nbformat": 4,
  "nbformat_minor": 0,
  "metadata": {
    "colab": {
      "provenance": []
    },
    "kernelspec": {
      "name": "python3",
      "display_name": "Python 3"
    },
    "language_info": {
      "name": "python"
    }
  },
  "cells": [
    {
      "cell_type": "markdown",
      "source": [
        "# **1. Создание и изменение массива NumPy**\n",
        "\n",
        "Создайте массив NumPy размером 3×3, содержащий числа от 1 до 9. Умножьте все элементы массива на 2, а затем замените все элементы больше 10 на 0.\n",
        "\n"
      ],
      "metadata": {
        "id": "42bs4_5CbJ1F"
      }
    },
    {
      "cell_type": "code",
      "execution_count": null,
      "metadata": {
        "colab": {
          "base_uri": "https://localhost:8080/"
        },
        "id": "GTpjV6jxBiQo",
        "outputId": "90e834fd-f1fa-4607-fc51-8a92e11d4b55"
      },
      "outputs": [
        {
          "output_type": "stream",
          "name": "stdout",
          "text": [
            "Изначальный массив:\n",
            "[[1 2 3]\n",
            " [4 5 6]\n",
            " [7 8 9]]\n",
            "Массив после умножения на 2\n",
            "[[ 2  4  6]\n",
            " [ 8 10 12]\n",
            " [14 16 18]]\n",
            "Конечный массив\n",
            "[[ 2  4  6]\n",
            " [ 8 10  0]\n",
            " [ 0  0  0]]\n"
          ]
        }
      ],
      "source": [
        "#Задание 1\n",
        "import numpy as np\n",
        "\n",
        "a = np.arange(1, 10).reshape(3,3)\n",
        "b = a * 2\n",
        "print(\"Изначальный массив:\")\n",
        "print(a)\n",
        "print(\"Массив после умножения на 2\")\n",
        "print(b)\n",
        "\n",
        "final = np.where(b > 10, 0, b)\n",
        "print(\"Конечный массив\")\n",
        "print(final)"
      ]
    },
    {
      "cell_type": "markdown",
      "source": [
        "\n",
        "#**2. Работа с булевыми масками.**\n",
        "Создайте массив NumPy из 20 случайных целых чисел от 1 до 100. Найдите и выведите все элементы, которые делятся на 5 без остатка. Затем замените их на -1 и выведите обновленный массив.\n",
        "\n"
      ],
      "metadata": {
        "id": "YPEcO9ptco9t"
      }
    },
    {
      "cell_type": "code",
      "source": [
        "#Задание 2\n",
        "import numpy as np\n",
        "\n",
        "a = np.random.randint(1, 101, 20)\n",
        "print(\"Полученный массив\\n\",  a)\n",
        "\n",
        "delenie = a[a % 5 == 0]\n",
        "print(\"Числа, делящиеся на 5\\n\",delenie)\n",
        "\n",
        "a[a % 5 == 0] = -1\n",
        "print(\"Обновленный массив\\n\",a)"
      ],
      "metadata": {
        "colab": {
          "base_uri": "https://localhost:8080/"
        },
        "id": "wx62Ytg3DwBc",
        "outputId": "76fb19b5-0bd6-4448-ff1d-e0da513d358f"
      },
      "execution_count": null,
      "outputs": [
        {
          "output_type": "stream",
          "name": "stdout",
          "text": [
            "Полученный массив\n",
            " [29 17 91 41 94  9 27 94 69 53  5 73 50 27 46 79 21 51 21 26]\n",
            "Числа, делящиеся на 5\n",
            " [ 5 50]\n",
            "Обновленный массив\n",
            " [29 17 91 41 94  9 27 94 69 53 -1 73 -1 27 46 79 21 51 21 26]\n"
          ]
        }
      ]
    },
    {
      "cell_type": "markdown",
      "source": [
        "#**3. Объединение и разбиение массивов.**\n",
        "Создайте два массива NumPy размером 1×5, заполненные случайными числами от 0 до 50.\n",
        "1.\tОбъедините эти массивы в один двумерный массив (по строкам).\n",
        "2.\tРазделите полученный массив на два массива, каждый из которых содержит 5 элементов.\n"
      ],
      "metadata": {
        "id": "X7zStfTldtnE"
      }
    },
    {
      "cell_type": "code",
      "source": [
        "#Задание 3\n",
        "import numpy as np\n",
        "\n",
        "a = np.random.randint(0, 51, 5)\n",
        "b = np.random.randint(0, 51, 5)\n",
        "print('Массив №1\\n ', a)\n",
        "print('Массив №2\\n', b)\n",
        "\n",
        "summa = np.concatenate((a, b))\n",
        "print('Сумма массивов\\n',summa)\n",
        "\n",
        "pazd = np.split(summa, 2)\n",
        "print('Разделенные массивы\\n',pazd)"
      ],
      "metadata": {
        "colab": {
          "base_uri": "https://localhost:8080/"
        },
        "id": "-T-peoSPEL9i",
        "outputId": "818b912c-7c9e-4233-a004-d79096bb64fd"
      },
      "execution_count": null,
      "outputs": [
        {
          "output_type": "stream",
          "name": "stdout",
          "text": [
            "Массив №1\n",
            "  [15 37 25 24  4]\n",
            "Массив №2\n",
            " [ 3 36 16 33 45]\n",
            "Сумма массивов\n",
            " [15 37 25 24  4  3 36 16 33 45]\n",
            "Разделенные массивы\n",
            " [array([15, 37, 25, 24,  4]), array([ 3, 36, 16, 33, 45])]\n"
          ]
        }
      ]
    },
    {
      "cell_type": "markdown",
      "source": [
        "#**4. Генерация и работа с линейными последовательностями.**\n",
        "Создайте массив из 50 чисел, равномерно распределенных от -10 до 10. Вычислите сумму всех элементов, сумму положительных элементов и сумму отрицательных элементов. Выведите результаты.\n"
      ],
      "metadata": {
        "id": "AQMmd7YEd4u9"
      }
    },
    {
      "cell_type": "code",
      "source": [
        "#Задание 4\n",
        "import numpy as np\n",
        "\n",
        "a = np.linspace(-10, 10, 50)\n",
        "print('Полученный массив:\\n',a)\n",
        "\n",
        "summa = np.sum(a)\n",
        "print('Сумма всех элементов:', summa)\n",
        "\n",
        "positive_elements = a[a > 0]\n",
        "psumm = np.sum(positive_elements)\n",
        "print('Сумма положительных элементов:', psumm)\n",
        "\n",
        "negative_element = a[a < 0]\n",
        "nsumm = np.sum(negative_element)\n",
        "print('Сумма отрицательных элементов:', nsumm)"
      ],
      "metadata": {
        "colab": {
          "base_uri": "https://localhost:8080/"
        },
        "id": "Fkr-NTb_ElS0",
        "outputId": "1f2ef563-007c-41ba-ccc3-a41be9a35096"
      },
      "execution_count": null,
      "outputs": [
        {
          "output_type": "stream",
          "name": "stdout",
          "text": [
            "Полученный массив:\n",
            " [-10.          -9.59183673  -9.18367347  -8.7755102   -8.36734694\n",
            "  -7.95918367  -7.55102041  -7.14285714  -6.73469388  -6.32653061\n",
            "  -5.91836735  -5.51020408  -5.10204082  -4.69387755  -4.28571429\n",
            "  -3.87755102  -3.46938776  -3.06122449  -2.65306122  -2.24489796\n",
            "  -1.83673469  -1.42857143  -1.02040816  -0.6122449   -0.20408163\n",
            "   0.20408163   0.6122449    1.02040816   1.42857143   1.83673469\n",
            "   2.24489796   2.65306122   3.06122449   3.46938776   3.87755102\n",
            "   4.28571429   4.69387755   5.10204082   5.51020408   5.91836735\n",
            "   6.32653061   6.73469388   7.14285714   7.55102041   7.95918367\n",
            "   8.36734694   8.7755102    9.18367347   9.59183673  10.        ]\n",
            "Сумма всех элементов: 7.105427357601002e-15\n",
            "Сумма положительных элементов: 127.55102040816328\n",
            "Сумма отрицательных элементов: -127.55102040816327\n"
          ]
        }
      ]
    },
    {
      "cell_type": "markdown",
      "source": [
        "#**5. Работа с диагональными и единичными матрицами.**\n",
        "Создайте:\n",
        "1.\tЕдиничную матрицу размером 4×4.\n",
        "2.\tДиагональную матрицу размером 4×4 с диагональными элементами [5, 10, 15,20] (не использовать циклы)\n"
      ],
      "metadata": {
        "id": "AkszRfand9S_"
      }
    },
    {
      "cell_type": "code",
      "source": [
        "#Задание 5\n",
        "import numpy as np\n",
        "\n",
        "#Создание единичной матрицы\n",
        "a = np.eye(4)\n",
        "print('Созданная единичная матрица: \\n',a)\n",
        "\n",
        "#Создание диагональной матрицы\n",
        "b = np.matrix([[5, 0, 0, 0], [0, 10, 0, 0], [0, 0, 15, 0], [0, 0, 0, 20]])\n",
        "print('Созданная диагональная матрица: \\n',b)\n",
        "\n",
        "sumA = np.sum(a)\n",
        "print('Сумма элементов единичной матрицы: ', sumA)\n",
        "\n",
        "sumB = np.sum(b)\n",
        "print('Сумма элементов диагональной матрицы: ', sumB)\n",
        "\n",
        "if sumA == sumB:\n",
        "  print('Суммы элементов матриц равны ')\n",
        "elif sumA > sumB:\n",
        "  print('Сумма элементов единичной матрицы больше суммы элементов диагональной матрицы')\n",
        "else:\n",
        "  print('Сумма элементов диагональной матрицы больше суммы элементов единичной матрицы')"
      ],
      "metadata": {
        "colab": {
          "base_uri": "https://localhost:8080/"
        },
        "id": "IEDoEf-rEwx8",
        "outputId": "dc44ae14-ac08-4b59-a109-758997157cfd"
      },
      "execution_count": null,
      "outputs": [
        {
          "output_type": "stream",
          "name": "stdout",
          "text": [
            "Созданная единичная матрица: \n",
            " [[1. 0. 0. 0.]\n",
            " [0. 1. 0. 0.]\n",
            " [0. 0. 1. 0.]\n",
            " [0. 0. 0. 1.]]\n",
            "Созданная диагональная матрица: \n",
            " [[ 5  0  0  0]\n",
            " [ 0 10  0  0]\n",
            " [ 0  0 15  0]\n",
            " [ 0  0  0 20]]\n",
            "Сумма элементов единичной матрицы:  4.0\n",
            "Сумма элементов диагональной матрицы:  50\n",
            "Сумма элементов диагональной матрицы больше суммы элементов единичной матрицы\n"
          ]
        }
      ]
    },
    {
      "cell_type": "markdown",
      "source": [
        "#**6. Создание и базовые операции с матрицами.**\n",
        "Создайте две квадратные матрицы NumPy размером 3×3, заполненные\n",
        "случайными целыми числами от 1 до 20. Вычислите и выведите:\n",
        "1.\tИх сумму\n",
        "2.\tИх разность\n",
        "3.\tИх поэлементное произведение\n"
      ],
      "metadata": {
        "id": "fbhcy4ekeZGX"
      }
    },
    {
      "cell_type": "code",
      "source": [
        "#Задание 6\n",
        "import numpy as np\n",
        "\n",
        "a = np.random.randint(1, 21, 9).reshape(3,3)\n",
        "print('Первая созданная матрица:\\n',a)\n",
        "\n",
        "b = np.random.randint(1, 21, 9).reshape(3,3)\n",
        "print('Вторая созданная матрица:\\n',b)\n",
        "\n",
        "summa = (a + b)\n",
        "print('Сумма матриц:\\n', summa)\n",
        "\n",
        "paznost = np.subtract(a, b)\n",
        "print('Разность матриц:\\n',paznost)\n",
        "\n",
        "proizv = a * b\n",
        "print('Поэлементной умножение матриц: \\n', proizv)"
      ],
      "metadata": {
        "colab": {
          "base_uri": "https://localhost:8080/"
        },
        "id": "pnPkhUarE3eg",
        "outputId": "f920b5e7-ead8-4450-98a3-2a2afcff038b"
      },
      "execution_count": null,
      "outputs": [
        {
          "output_type": "stream",
          "name": "stdout",
          "text": [
            "Первая созданная матрица:\n",
            " [[10  1  9]\n",
            " [ 4 14  9]\n",
            " [14  8  2]]\n",
            "Вторая созданная матрица:\n",
            " [[ 7  3  2]\n",
            " [ 9  9  3]\n",
            " [20 13 11]]\n",
            "Сумма матриц:\n",
            " [[17  4 11]\n",
            " [13 23 12]\n",
            " [34 21 13]]\n",
            "Разность матриц:\n",
            " [[ 3 -2  7]\n",
            " [-5  5  6]\n",
            " [-6 -5 -9]]\n",
            "Поэлементной умножение матриц: \n",
            " [[ 70   3  18]\n",
            " [ 36 126  27]\n",
            " [280 104  22]]\n"
          ]
        }
      ]
    },
    {
      "cell_type": "markdown",
      "source": [
        "#**7. Умножение матриц.**\n",
        "Создайте две матрицы NumPy:\n",
        "1.\tПервую размером 2×3, заполненную случайными числами от 1 до 10.\n",
        "2.\tВторую размером 3×2, заполненную случайными числами от 1 до 10.\n",
        "Выполните матричное умножение ( @ или np.dot ) и выведите результат.\n"
      ],
      "metadata": {
        "id": "ieIOn-mEeb41"
      }
    },
    {
      "cell_type": "code",
      "source": [
        "#Задание 7\n",
        "import numpy as np\n",
        "\n",
        "a = np.random.randint(1, 11, 6).reshape(2,3)\n",
        "print('Первая созданная матрица:\\n',a)\n",
        "\n",
        "b = np.random.randint(1, 11, 6).reshape(3,2)\n",
        "print('Вторая созданная матрица:\\n',b)\n",
        "\n",
        "result = np.dot(a, b)\n",
        "print('Матричное умножение:\\n', result)"
      ],
      "metadata": {
        "colab": {
          "base_uri": "https://localhost:8080/"
        },
        "id": "Zm_ydmfHE9J2",
        "outputId": "052a7a18-280c-41e2-d940-a29c23c6f119"
      },
      "execution_count": null,
      "outputs": [
        {
          "output_type": "stream",
          "name": "stdout",
          "text": [
            "Первая созданная матрица:\n",
            " [[6 3 1]\n",
            " [6 7 5]]\n",
            "Вторая созданная матрица:\n",
            " [[3 6]\n",
            " [1 8]\n",
            " [8 2]]\n",
            "Матричное умножение:\n",
            " [[ 29  62]\n",
            " [ 65 102]]\n"
          ]
        }
      ]
    },
    {
      "cell_type": "markdown",
      "source": [
        "#**8. Определитель и обратная матрица.**\n",
        "Создайте случайную квадратную матрицу 3×3. Найдите и выведите:\n",
        "1.\tОпределитель этой матрицы\n",
        "2.\tОбратную матрицу (если существует, иначе выведите сообщение, что матрица вырождена)\n",
        "Используйте функции np.linalg.det и np.linalg.inv .\n"
      ],
      "metadata": {
        "id": "n8EicgTJegr5"
      }
    },
    {
      "cell_type": "code",
      "source": [
        "#Задание 8\n",
        "import numpy as np\n",
        "\n",
        "a = np.random.randint(-100, 100, 9).reshape(3,3)\n",
        "print('Cозданная матрица:\\n',a)\n",
        "\n",
        "opr = np.linalg.det(a)\n",
        "print('Определитель созданной матрицы:', opr)\n",
        "\n",
        "if opr != 0:\n",
        "  obratn = np.linalg.inv(a)\n",
        "  print('Обратная матрица:\\n', obratn)\n",
        "else:\n",
        "  print('Матрица вырождена')"
      ],
      "metadata": {
        "colab": {
          "base_uri": "https://localhost:8080/"
        },
        "id": "si5rcRKkFD2z",
        "outputId": "1b13de55-b675-4b9c-c77f-0d9c8058f230"
      },
      "execution_count": null,
      "outputs": [
        {
          "output_type": "stream",
          "name": "stdout",
          "text": [
            "Cозданная матрица:\n",
            " [[ 88  26 -50]\n",
            " [-16  76  48]\n",
            " [-20  25 -68]]\n",
            "Определитель созданной матрицы: -669631.9999999998\n",
            "Обратная матрица:\n",
            " [[ 0.0095097  -0.00077356 -0.00753847]\n",
            " [ 0.0030584   0.01042961  0.00511326]\n",
            " [-0.00167256  0.00406193 -0.01060881]]\n"
          ]
        }
      ]
    },
    {
      "cell_type": "markdown",
      "source": [
        "#**9. Транспонирование и след матрицы.**\n",
        "Создайте матрицу NumPy размером 4×4, содержащую случайные целые числа от 1 до 50. Выведите:\n",
        "1.\tИсходную матрицу\n",
        "2.\tТранспонированную матрицу\n",
        "3.\tСлед матрицы (сумму элементов на главной диагонали)\n",
        "Используйте np.trace для нахождения следа\n"
      ],
      "metadata": {
        "id": "5B65bMGZekz9"
      }
    },
    {
      "cell_type": "code",
      "source": [
        "#Задание 9\n",
        "import numpy as np\n",
        "\n",
        "a = np.random.randint(1, 51, 16).reshape(4,4)\n",
        "print('Cозданная матрица:\\n',a)\n",
        "\n",
        "transonirovanie = np.transpose(a)\n",
        "print('Транспонированная матрица:\\n', transonirovanie)\n",
        "\n",
        "sled = np.trace(a)\n",
        "print('Cлед матрицы:', sled)"
      ],
      "metadata": {
        "colab": {
          "base_uri": "https://localhost:8080/"
        },
        "id": "M67wU7YMFJa3",
        "outputId": "378fa843-9e54-4e52-cb78-ace4e273345f"
      },
      "execution_count": null,
      "outputs": [
        {
          "output_type": "stream",
          "name": "stdout",
          "text": [
            "Cозданная матрица:\n",
            " [[23 49  3 34]\n",
            " [39  6  8 44]\n",
            " [ 8 44 45 38]\n",
            " [ 6 35 24 35]]\n",
            "Транспонированная матрица:\n",
            " [[23 39  8  6]\n",
            " [49  6 44 35]\n",
            " [ 3  8 45 24]\n",
            " [34 44 38 35]]\n",
            "Cлед матрицы: 109\n"
          ]
        }
      ]
    },
    {
      "cell_type": "markdown",
      "source": [
        "#**10.  Системы линейных уравнений**\n",
        "Решите систему линейных уравнений вида:\n",
        "\n",
        "![image.png](data:image/png;base64,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)\n",
        "\n",
        "Используйте матричное представление Ax = B , где A – матрица коэффициентов, x – вектор неизвестных, B – вектор правой части. Решите систему с помощью np.linalg.solve и выведите результат."
      ],
      "metadata": {
        "id": "6i15tWqneo9Z"
      }
    },
    {
      "cell_type": "code",
      "source": [
        "#Задание 10\n",
        "import numpy as np\n",
        "\n",
        "A = np.array([[2, 3, -1],\n",
        "              [4, -1, 2],\n",
        "              [-3, 5, 4]])\n",
        "\n",
        "B = np.array([5, 6, -2])\n",
        "x = np.linalg.solve(A, B)\n",
        "print(\"Полученные корни х, y, z:\\n\",x)"
      ],
      "metadata": {
        "colab": {
          "base_uri": "https://localhost:8080/"
        },
        "id": "4vlLDqLOFOyw",
        "outputId": "3d24e653-5a37-4f58-ebe6-e04bb1ed1de0"
      },
      "execution_count": null,
      "outputs": [
        {
          "output_type": "stream",
          "name": "stdout",
          "text": [
            "Полученные корни х, y, z:\n",
            " [1.63963964 0.57657658 0.00900901]\n"
          ]
        }
      ]
    },
    {
      "cell_type": "markdown",
      "source": [
        "#**Индивидуальное задание**\n",
        "Решите индивидуальное задание согласно варианта. Каждое задание предусматривает построение системы линейных уравнений. Решите полученную систему уравнений с использованием библиотеки NumPy. Для решения системы используйте метод Крамера и матричный метод. Сравните полученные результаты, с результатами, полученными с помощью np.linalg.solve.\n",
        "##**Задание:**\n",
        "Оптимизация производства. Фабрика производит три вида мебели: столы, стулья и шкафы. Используется три типа ресурсов: дерево, металл и стекло. Для производства стола требуется 5 кг дерева, 2 кг металла и 1 кг стекла, для стула — 2 кг дерева, 1 кг металла и 0.5 кг стекла, для шкафа — 10 кг дерева, 3 кг металла и 2 кг стекла. Всего на складе имеется 100 кг дерева, 30 кг металла и 15 кг стекла. Сколько единиц каждого вида мебели можно произвести, если использовать все ресурсы полностью?\n"
      ],
      "metadata": {
        "id": "yICwUE_5f2jd"
      }
    },
    {
      "cell_type": "code",
      "source": [
        "#Индивидуальное задание. Вариант 2\n",
        "import numpy as np\n",
        "\n",
        "# Определим матрицу коэффициентов A и вектор свободных членов b\n",
        "A = np.array([[5, 2, 10],\n",
        "              [2, 1, 3],\n",
        "              [1, 0.5, 2]])\n",
        "\n",
        "b = np.array([100, 30, 15])\n",
        "\n",
        "# Метод Крамера\n",
        "def cramer(A, b):\n",
        "    n = A.shape[0]\n",
        "    x = np.zeros(n)\n",
        "    det_A = np.linalg.det(A)\n",
        "\n",
        "    for i in range(n):\n",
        "        # Создаем копию A и заменяем i-ый столбец на b\n",
        "        Ai = A.copy()\n",
        "        Ai[:, i] = b\n",
        "        x[i] = np.linalg.det(Ai) / det_A\n",
        "\n",
        "    return x\n",
        "\n",
        "# Решение с помощью метода Крамера\n",
        "solution_cramer = cramer(A, b)\n",
        "\n",
        "# Решение с помощью матричного метода (обратная матрица)\n",
        "solution_matrix_method = np.linalg.inv(A).dot(b)\n",
        "\n",
        "# Решение с помощью np.linalg.solve\n",
        "solution_np_linalg_solve = np.linalg.solve(A, b)\n",
        "\n",
        "# Вывод результатов\n",
        "print(\"Решение методом Крамера:\", solution_cramer)\n",
        "print(\"Решение матричным методом:\", solution_matrix_method)\n",
        "print(\"Решение с использованием np.linalg.solve:\", solution_np_linalg_solve)"
      ],
      "metadata": {
        "colab": {
          "base_uri": "https://localhost:8080/"
        },
        "id": "woGkLYvvFRfs",
        "outputId": "8deafd38-9ae1-487c-e481-ca556da0d64f"
      },
      "execution_count": null,
      "outputs": [
        {
          "output_type": "stream",
          "name": "stdout",
          "text": [
            "Решение методом Крамера: [ 40. -50.   0.]\n",
            "Решение матричным методом: [ 40. -50.   0.]\n",
            "Решение с использованием np.linalg.solve: [ 40. -50.   0.]\n"
          ]
        }
      ]
    }
  ]
}