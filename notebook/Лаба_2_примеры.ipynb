{
  "nbformat": 4,
  "nbformat_minor": 0,
  "metadata": {
    "colab": {
      "provenance": []
    },
    "kernelspec": {
      "name": "python3",
      "display_name": "Python 3"
    },
    "language_info": {
      "name": "python"
    }
  },
  "cells": [
    {
      "cell_type": "code",
      "execution_count": null,
      "metadata": {
        "id": "CKtt3YLVZGXS"
      },
      "outputs": [],
      "source": [
        "#Векторизация\n",
        "import numpy as np\n",
        "a = np.array([1, 2, 3])\n",
        "b = np.array([4, 5, 6])\n",
        "result = a + b # Быстрое сложение массивов"
      ]
    },
    {
      "cell_type": "code",
      "source": [
        "#Создание массива\n",
        "import numpy as np\n",
        "arr = np.array([1, 2, 3, 4])"
      ],
      "metadata": {
        "id": "XYYpPQu1ZYNB"
      },
      "execution_count": null,
      "outputs": []
    },
    {
      "cell_type": "code",
      "source": [
        "#Операции с массивами\n",
        "arr1 = np.array([1, 2, 3])\n",
        "arr2 = np.array([4, 5, 6])\n",
        "result = arr1 + arr2 # [5, 7, 9]"
      ],
      "metadata": {
        "id": "dDfPgiHMZcAF"
      },
      "execution_count": null,
      "outputs": []
    },
    {
      "cell_type": "code",
      "source": [
        "#Матричные операции\n",
        "matrix1 = np.array([[1, 2], [3, 4]])\n",
        "matrix2 = np.array([[5, 6], [7, 8]])\n",
        "result = np.dot(matrix1, matrix2) # Матричное умножение"
      ],
      "metadata": {
        "id": "VmvZI-V6Zgry"
      },
      "execution_count": null,
      "outputs": []
    },
    {
      "cell_type": "code",
      "source": [
        "#Статические функции\n",
        "data = np.array([1, 2, 3, 4, 5])\n",
        "mean = np.mean(data) # Среднее значение\n",
        "std_dev = np.std(data) # Стандартное отклонение"
      ],
      "metadata": {
        "id": "pyK8en2ebFT_"
      },
      "execution_count": null,
      "outputs": []
    },
    {
      "cell_type": "code",
      "source": [
        "#Поддержка векторизации\n",
        "import numpy as np\n",
        "arr = np.array([1, 2, 3, 4])\n",
        "result = arr * 2 # Быстрое поэлементное умножение"
      ],
      "metadata": {
        "id": "BynBovgLbLH2"
      },
      "execution_count": null,
      "outputs": []
    },
    {
      "cell_type": "code",
      "source": [
        "#np.random.permutation()\n",
        "a = ['a', 'b', 'c', 'd', 'e']\n",
        "np.random.permutation(a)\n",
        "arr_mix = np.random.permutation(arr)\n",
        "arr_mix"
      ],
      "metadata": {
        "colab": {
          "base_uri": "https://localhost:8080/"
        },
        "id": "zh5Xem4abVmJ",
        "outputId": "e5d47c08-655f-42c0-a414-9ba15ef52f8c"
      },
      "execution_count": null,
      "outputs": [
        {
          "output_type": "execute_result",
          "data": {
            "text/plain": [
              "array([3, 4, 1, 2])"
            ]
          },
          "metadata": {},
          "execution_count": 6
        }
      ]
    },
    {
      "cell_type": "code",
      "source": [
        "#Нулевой вектор-столбец\n",
        "v_vert_zeros = np.zeros((5, 1))\n",
        "print(v_vert_zeros)"
      ],
      "metadata": {
        "colab": {
          "base_uri": "https://localhost:8080/"
        },
        "id": "8D37yeQMbwmH",
        "outputId": "81430114-0133-43d6-8bbf-a1947ed4609f"
      },
      "execution_count": null,
      "outputs": [
        {
          "output_type": "stream",
          "name": "stdout",
          "text": [
            "[[0.]\n",
            " [0.]\n",
            " [0.]\n",
            " [0.]\n",
            " [0.]]\n"
          ]
        }
      ]
    },
    {
      "cell_type": "code",
      "source": [
        "#Единичный вектор-столбец\n",
        "v_vert_ones = np.ones((5, 1))\n",
        "print(v_vert_ones)"
      ],
      "metadata": {
        "colab": {
          "base_uri": "https://localhost:8080/"
        },
        "id": "arF8yhDyb1vW",
        "outputId": "3c98e31b-1694-435a-ae4c-a22fbbbc812a"
      },
      "execution_count": null,
      "outputs": [
        {
          "output_type": "stream",
          "name": "stdout",
          "text": [
            "[[1.]\n",
            " [1.]\n",
            " [1.]\n",
            " [1.]\n",
            " [1.]]\n"
          ]
        }
      ]
    },
    {
      "cell_type": "code",
      "source": [
        "#Создание матрицы\n",
        "m_sqr = [[1, 2, 3], [4, 5, 6], [7, 8, 9]]\n",
        "m_sqr_arr = np.array(m_sqr)\n",
        "print(m_sqr_arr)"
      ],
      "metadata": {
        "colab": {
          "base_uri": "https://localhost:8080/"
        },
        "id": "v1ZG5kkPb7dN",
        "outputId": "6d147202-56c7-46b0-daa1-8fe837dbcaad"
      },
      "execution_count": null,
      "outputs": [
        {
          "output_type": "stream",
          "name": "stdout",
          "text": [
            "[[1 2 3]\n",
            " [4 5 6]\n",
            " [7 8 9]]\n"
          ]
        }
      ]
    },
    {
      "cell_type": "code",
      "source": [
        "#Диагольнальная матрица\n",
        "m_diag = [[1, 0, 0], [0, 5, 0], [0, 0, 9]]\n",
        "m_diag_np = np.matrix(m_diag)\n",
        "print(m_diag_np)"
      ],
      "metadata": {
        "colab": {
          "base_uri": "https://localhost:8080/"
        },
        "id": "DVB_p3LTcBnm",
        "outputId": "e62f8aef-51f8-441d-dd0e-4df8b482606e"
      },
      "execution_count": null,
      "outputs": [
        {
          "output_type": "stream",
          "name": "stdout",
          "text": [
            "[[1 0 0]\n",
            " [0 5 0]\n",
            " [0 0 9]]\n"
          ]
        }
      ]
    },
    {
      "cell_type": "code",
      "source": [
        "#Единичная матрица\n",
        "m_e = [[1, 0, 0], [0, 1, 0], [0, 0, 1]]\n",
        "m_e_np = np.matrix(m_e)\n",
        "print(m_e_np)"
      ],
      "metadata": {
        "colab": {
          "base_uri": "https://localhost:8080/"
        },
        "id": "aEnYS3TjcG09",
        "outputId": "7d8650a1-fb90-41dc-fa14-f3c3aca49bbc"
      },
      "execution_count": null,
      "outputs": [
        {
          "output_type": "stream",
          "name": "stdout",
          "text": [
            "[[1 0 0]\n",
            " [0 1 0]\n",
            " [0 0 1]]\n"
          ]
        }
      ]
    },
    {
      "cell_type": "code",
      "source": [
        "#Нулевая матрица\n",
        "m_zeros = np.zeros((3, 3))\n",
        "print(m_zeros)"
      ],
      "metadata": {
        "colab": {
          "base_uri": "https://localhost:8080/"
        },
        "id": "7p--s3qzcMsN",
        "outputId": "bb744cbb-2f7b-499e-d550-a6d08ac12a41"
      },
      "execution_count": null,
      "outputs": [
        {
          "output_type": "stream",
          "name": "stdout",
          "text": [
            "[[0. 0. 0.]\n",
            " [0. 0. 0.]\n",
            " [0. 0. 0.]]\n"
          ]
        }
      ]
    },
    {
      "cell_type": "code",
      "source": [
        "#Задание матрицы в общем виде\n",
        "m_mx = np.matrix('1 2 3; 4 5 6')\n",
        "print(m_mx)"
      ],
      "metadata": {
        "colab": {
          "base_uri": "https://localhost:8080/"
        },
        "id": "ktqEiOAdcT73",
        "outputId": "6d8ea263-058c-42da-93d0-88b6fd0ff442"
      },
      "execution_count": null,
      "outputs": [
        {
          "output_type": "stream",
          "name": "stdout",
          "text": [
            "[[1 2 3]\n",
            " [4 5 6]]\n"
          ]
        }
      ]
    },
    {
      "cell_type": "code",
      "source": [
        "#Транспонирование матрицы\n",
        "A = np.matrix('1 2 3; 4 5 6')\n",
        "print(A)\n",
        "A_t = A.transpose()\n",
        "print(A_t)"
      ],
      "metadata": {
        "colab": {
          "base_uri": "https://localhost:8080/"
        },
        "id": "jaliF7ZCcX8f",
        "outputId": "b89cd240-6490-46c9-f6b1-6f658cadeadc"
      },
      "execution_count": null,
      "outputs": [
        {
          "output_type": "stream",
          "name": "stdout",
          "text": [
            "[[1 2 3]\n",
            " [4 5 6]]\n",
            "[[1 4]\n",
            " [2 5]\n",
            " [3 6]]\n"
          ]
        }
      ]
    },
    {
      "cell_type": "code",
      "source": [
        "#Транспонирование суммы матриц равно сумме транспонированных матриц\n",
        "A = np.matrix('1 2 3; 4 5 6')\n",
        "B = np.matrix('7 8 9; 0 7 5')\n",
        "L = (A + B).T\n",
        "R = A.T + B.T\n",
        "print(L)\n",
        "print(R)"
      ],
      "metadata": {
        "colab": {
          "base_uri": "https://localhost:8080/"
        },
        "id": "HuueSJCNck6I",
        "outputId": "1bf0e35c-c78a-4ef4-ca24-f5f8954dbd34"
      },
      "execution_count": 15,
      "outputs": [
        {
          "output_type": "stream",
          "name": "stdout",
          "text": [
            "[[ 8  4]\n",
            " [10 12]\n",
            " [12 11]]\n",
            "[[ 8  4]\n",
            " [10 12]\n",
            " [12 11]]\n"
          ]
        }
      ]
    },
    {
      "cell_type": "code",
      "source": [
        "#Определитель матрицы\n",
        "A = np.matrix('-4 -1 2; 10 4 -1; 8 3 1')\n",
        "print(A)\n",
        "np.linalg.det(A)"
      ],
      "metadata": {
        "colab": {
          "base_uri": "https://localhost:8080/"
        },
        "id": "hABjzkCxdHKw",
        "outputId": "a32c9577-7895-4889-b266-5888b6c1950e"
      },
      "execution_count": 16,
      "outputs": [
        {
          "output_type": "stream",
          "name": "stdout",
          "text": [
            "[[-4 -1  2]\n",
            " [10  4 -1]\n",
            " [ 8  3  1]]\n"
          ]
        },
        {
          "output_type": "execute_result",
          "data": {
            "text/plain": [
              "np.float64(-14.000000000000009)"
            ]
          },
          "metadata": {},
          "execution_count": 16
        }
      ]
    },
    {
      "cell_type": "code",
      "source": [
        "#Свойства определителя\n",
        "A = np.matrix('-4 -1 2; 10 4 -1; 8 3 1')\n",
        "print(A)\n",
        "print(A.T)\n",
        "det_A = round(np.linalg.det(A), 3)\n",
        "det_A_t = round(np.linalg.det(A.T), 3)\n",
        "print(det_A)\n",
        "print(det_A_t)"
      ],
      "metadata": {
        "colab": {
          "base_uri": "https://localhost:8080/"
        },
        "id": "KjNkm-E-dOrv",
        "outputId": "9c78a422-ba43-495b-9d49-c1be1e6396c0"
      },
      "execution_count": 17,
      "outputs": [
        {
          "output_type": "stream",
          "name": "stdout",
          "text": [
            "[[-4 -1  2]\n",
            " [10  4 -1]\n",
            " [ 8  3  1]]\n",
            "[[-4 10  8]\n",
            " [-1  4  3]\n",
            " [ 2 -1  1]]\n",
            "-14.0\n",
            "-14.0\n"
          ]
        }
      ]
    },
    {
      "cell_type": "code",
      "source": [
        "#Определение обратной матрицы\n",
        "A = np.matrix('1 -3; 2 5')\n",
        "A_inv = np.linalg.inv(A)\n",
        "print(A_inv)"
      ],
      "metadata": {
        "colab": {
          "base_uri": "https://localhost:8080/"
        },
        "id": "3IS2u8hrdcVY",
        "outputId": "efdb905a-52f4-4745-da74-56123a62b0b1"
      },
      "execution_count": 18,
      "outputs": [
        {
          "output_type": "stream",
          "name": "stdout",
          "text": [
            "[[ 0.45454545  0.27272727]\n",
            " [-0.18181818  0.09090909]]\n"
          ]
        }
      ]
    },
    {
      "cell_type": "code",
      "source": [
        "#Свойство матрицы\n",
        "A = np.matrix('1. -3.; 2. 5.')\n",
        "L = np.linalg.inv(A.T)\n",
        "R = (np.linalg.inv(A)).T\n",
        "print(L)\n",
        "print(R)"
      ],
      "metadata": {
        "colab": {
          "base_uri": "https://localhost:8080/"
        },
        "id": "coMuvDQydkgJ",
        "outputId": "f491d3c0-0627-4716-e58c-58fe76c17749"
      },
      "execution_count": 19,
      "outputs": [
        {
          "output_type": "stream",
          "name": "stdout",
          "text": [
            "[[ 0.45454545 -0.18181818]\n",
            " [ 0.27272727  0.09090909]]\n",
            "[[ 0.45454545 -0.18181818]\n",
            " [ 0.27272727  0.09090909]]\n"
          ]
        }
      ]
    },
    {
      "cell_type": "code",
      "source": [
        "#Свойство матрицы\n",
        "A = np.matrix('1. -3.; 2. 5.')\n",
        "B = np.matrix('7. 6.; 1. 8.')\n",
        "L = np.linalg.inv(A.dot(B))\n",
        "R = np.linalg.inv(B).dot(np.linalg.inv(A))\n",
        "print(L)\n",
        "print(R)"
      ],
      "metadata": {
        "colab": {
          "base_uri": "https://localhost:8080/"
        },
        "id": "yhaeebdrdqvr",
        "outputId": "a7b16d99-807a-4d19-d970-f475802f6f29"
      },
      "execution_count": 20,
      "outputs": [
        {
          "output_type": "stream",
          "name": "stdout",
          "text": [
            "[[ 0.09454545  0.03272727]\n",
            " [-0.03454545  0.00727273]]\n",
            "[[ 0.09454545  0.03272727]\n",
            " [-0.03454545  0.00727273]]\n"
          ]
        }
      ]
    },
    {
      "cell_type": "code",
      "source": [
        "#Ранг матрицы\n",
        "m_eye = np.eye(4)\n",
        "print(m_eye)\n",
        "rank = np.linalg.matrix_rank(m_eye)\n",
        "print(rank)\n",
        "m_eye[3][3] = 0\n",
        "print(m_eye)\n",
        "rank = np.linalg.matrix_rank(m_eye)\n",
        "print(rank)"
      ],
      "metadata": {
        "colab": {
          "base_uri": "https://localhost:8080/"
        },
        "id": "EPprgQeUdx23",
        "outputId": "173ffccd-6959-49b2-e351-d18dfe414dd5"
      },
      "execution_count": 23,
      "outputs": [
        {
          "output_type": "stream",
          "name": "stdout",
          "text": [
            "[[1. 0. 0. 0.]\n",
            " [0. 1. 0. 0.]\n",
            " [0. 0. 1. 0.]\n",
            " [0. 0. 0. 1.]]\n",
            "4\n",
            "[[1. 0. 0. 0.]\n",
            " [0. 1. 0. 0.]\n",
            " [0. 0. 1. 0.]\n",
            " [0. 0. 0. 0.]]\n",
            "3\n"
          ]
        }
      ]
    }
  ]
}